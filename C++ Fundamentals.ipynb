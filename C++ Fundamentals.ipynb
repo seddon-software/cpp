{
 "cells": [
  {
   "cell_type": "markdown",
   "metadata": {},
   "source": [
    "# Development Tools and Environments\n",
    "* compilers and builders: *g++*, *clang*, *make*\n",
    "* debuggers: *gdb*, *lldb*\n",
    "* command line, *vim*, *gdb-tui*\n",
    "* IDEs: *Eclipse CDT*, *Visual Studio Code*, *gdbgui*, *CLion*"
   ]
  },
  {
   "cell_type": "markdown",
   "metadata": {},
   "source": [
    "# 1 Getting Started\n",
    "* header files\n",
    "* operator overloading >> and <<\n",
    "* return from main\n",
    "* std namespace    "
   ]
  },
  {
   "cell_type": "markdown",
   "metadata": {},
   "source": [
    "# 2 Namespaces\n",
    "* defining\n",
    "* in libraries\n",
    "* Koenig Lookup"
   ]
  },
  {
   "cell_type": "markdown",
   "metadata": {},
   "source": [
    "# 3 Revision\n",
    "* pointers\n",
    "* references\n",
    "* char* and strings\n",
    "* arrays and vectors"
   ]
  },
  {
   "cell_type": "markdown",
   "metadata": {},
   "source": [
    "# 4 Files and I/O\n",
    "* iostream\n",
    "* cout, cin, cerror, clog\n",
    "* fstream"
   ]
  },
  {
   "cell_type": "markdown",
   "metadata": {},
   "source": [
    "# 5 Extensions to C\n",
    "* function name overloading\n",
    "* inline functions\n",
    "* new and delete"
   ]
  },
  {
   "cell_type": "markdown",
   "metadata": {},
   "source": [
    "# 6 Classes\n",
    "* CTORs\n",
    "* DTORs\n",
    "* initialization lists\n",
    "* const\n",
    "* inline and separate header and implementation"
   ]
  },
  {
   "cell_type": "markdown",
   "metadata": {},
   "source": [
    "# 7 Operator Overloading\n",
    "* binary and unary operators\n",
    "* using references\n",
    "* reference returns\n",
    "* member and free functions\n",
    "* side effect operators\n",
    "* overloading >> an <<"
   ]
  },
  {
   "cell_type": "markdown",
   "metadata": {},
   "source": [
    "# 8 Shallow and Deep Copying\n",
    "* gotchars\n",
    "* Copy CTOR\n",
    "* reference counting"
   ]
  },
  {
   "cell_type": "markdown",
   "metadata": {},
   "source": [
    "# 9 Standard Template Library\n",
    "* containers: vector, list, map, unordered map\n",
    "* algorithms\n",
    "* iterators\n",
    "* functors and lambdas"
   ]
  },
  {
   "cell_type": "markdown",
   "metadata": {},
   "source": [
    "# 10 Inheritance and Polymorphism\n",
    "* class hierachies\n",
    "* initialization\n",
    "* public, protected and private\n",
    "* protected and private inheritance\n",
    "* abstract classes and interfaces\n",
    "* V-Tables\n",
    "* dynamic and static binding\n",
    "* multiple inheritance\n"
   ]
  },
  {
   "cell_type": "markdown",
   "metadata": {},
   "source": [
    "# Templates\n",
    "* function templates\n",
    "* class templates"
   ]
  },
  {
   "cell_type": "markdown",
   "metadata": {},
   "source": [
    "# Exception Handling\n",
    "* standard exceptions\n",
    "* user defined exceptions"
   ]
  }
 ],
 "metadata": {
  "kernelspec": {
   "display_name": "Python 3",
   "language": "python",
   "name": "python3"
  },
  "language_info": {
   "codemirror_mode": {
    "name": "ipython",
    "version": 3
   },
   "file_extension": ".py",
   "mimetype": "text/x-python",
   "name": "python",
   "nbconvert_exporter": "python",
   "pygments_lexer": "ipython3",
   "version": "3.7.3"
  }
 },
 "nbformat": 4,
 "nbformat_minor": 2
}
